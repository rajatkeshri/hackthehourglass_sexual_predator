{
 "cells": [
  {
   "cell_type": "code",
   "execution_count": 57,
   "metadata": {},
   "outputs": [],
   "source": [
    "import numpy as np\n",
    "import pandas as pd\n",
    "import nltk\n",
    "import re\n",
    "from nltk.corpus import stopwords\n",
    "from nltk.stem.porter import PorterStemmer\n",
    "#from wordcloud import WordCloud\n",
    "import matplotlib.pyplot as plt\n",
    "import seaborn as sns\n",
    "import contractions\n",
    "import unicodedata\n",
    "from sklearn.model_selection import train_test_split\n",
    "from sklearn.feature_extraction.text import TfidfVectorizer\n",
    "from sklearn.linear_model import LogisticRegression\n",
    "from sklearn.svm import LinearSVC\n",
    "from sklearn.metrics import classification_report\n",
    "from imblearn.over_sampling import SMOTE\n",
    "\n",
    "from sklearn.linear_model import LinearRegression\n",
    "from sklearn.ensemble import RandomForestClassifier\n",
    "from sklearn.preprocessing import scale\n",
    "from sklearn.linear_model import LogisticRegression\n",
    "from sklearn.model_selection import train_test_split\n",
    "from sklearn import preprocessing\n",
    "from sklearn import svm\n",
    "from sklearn.ensemble import RandomForestClassifier\n",
    "from sklearn.neural_network import MLPClassifier\n",
    "\n",
    "import pickle"
   ]
  },
  {
   "cell_type": "code",
   "execution_count": 58,
   "metadata": {},
   "outputs": [],
   "source": [
    "f = open(\"bagofwords_predator.txt\", \"r\")\n",
    "predator_words = f.readlines() \n",
    "\n",
    "f = open(\"goodwords.txt\", \"r\")\n",
    "goodwords = f.readlines() \n",
    "\n",
    "p_temp = []\n",
    "g_temp = []\n",
    "for i in range(0,len(predator_words)):\n",
    "    predator_words[i] = predator_words[i].split(\"\\n\")[0]\n",
    "    goodwords[i] = goodwords[i].split(\"\\n\")[0]\n",
    "    p_temp.append(1)\n",
    "    g_temp.append(0)\n",
    "\n",
    "X_train = predator_words + goodwords\n",
    "y_train = p_temp + g_temp\n",
    "\n"
   ]
  },
  {
   "cell_type": "code",
   "execution_count": null,
   "metadata": {},
   "outputs": [],
   "source": []
  },
  {
   "cell_type": "code",
   "execution_count": 59,
   "metadata": {},
   "outputs": [],
   "source": [
    "X_train, X_test, y_train, y_test = train_test_split(np.array(X_train), \n",
    "                                                    np.array(y_train), stratify = np.array(y_train),\n",
    "                                                    test_size = 0.10, random_state = 100)\n",
    "\n",
    "tv = PAN12 Deception Detection: Sexual Predator Identification(min_df = 0., max_df = 1., norm = 'l2', use_idf = True, smooth_idf = True)\n",
    "\n",
    "train_tfidf = tv.fit_transform(X_train)\n",
    "test_tfidf = tv.transform(X_test)\n"
   ]
  },
  {
   "cell_type": "code",
   "execution_count": 71,
   "metadata": {},
   "outputs": [
    {
     "name": "stdout",
     "output_type": "stream",
     "text": [
      "              precision    recall  f1-score   support\n",
      "\n",
      "           0       0.58      0.89      0.70       280\n",
      "           1       0.76      0.37      0.50       279\n",
      "\n",
      "    accuracy                           0.63       559\n",
      "   macro avg       0.67      0.63      0.60       559\n",
      "weighted avg       0.67      0.63      0.60       559\n",
      "\n",
      "              precision    recall  f1-score   support\n",
      "\n",
      "           0       0.59      0.89      0.71       280\n",
      "           1       0.77      0.37      0.50       279\n",
      "\n",
      "    accuracy                           0.63       559\n",
      "   macro avg       0.68      0.63      0.60       559\n",
      "weighted avg       0.68      0.63      0.61       559\n",
      "\n"
     ]
    }
   ],
   "source": [
    "log_model = LogisticRegression(penalty = 'l2', solver = 'lbfgs', multi_class = 'ovr', max_iter = 1000, C = 1, random_state = 100)\n",
    "log_model.fit(train_tfidf, y_train)\n",
    "\n",
    "log_predictions = log_model.predict(test_tfidf)\n",
    "print(classification_report(y_test, log_predictions))\n",
    "\n",
    "\n",
    "svm = LinearSVC(penalty = 'l2', C = 1, random_state = 100)\n",
    "svm.fit(train_tfidf, y_train)\n",
    "\n",
    "svm_predictions = svm.predict(test_tfidf)\n",
    "print(classification_report(y_test, svm_predictions))"
   ]
  },
  {
   "cell_type": "code",
   "execution_count": 72,
   "metadata": {},
   "outputs": [
    {
     "name": "stdout",
     "output_type": "stream",
     "text": [
      "[0]\n"
     ]
    }
   ],
   "source": [
    "msg = '#love#instagood#photooftheday#fashion#Beautiful#like4like#picoftheday#art#happy#photography#instagram#followme#style#follow#instadaily#travel#life#cute#fitness#nature#beauty#girl#fun#photo#amazing#likeforlike#instalike#Selfie#smile#me#lifestyle#model#follow4follow#music#friends#motivation#like#food#inspiration#Repost#summer#design#makeup#TBT#followforfollow#ootd#Family#l4l#cool#igers#TagsForLikes#hair#instamood#sun#vsco#fit#beach#photographer#gym#artist#girls#vscocam#autumn#pretty#luxury#instapic#black#sunset#funny#sky#blogger#hot#healthy#work#bestoftheday#workout#f4f#nofilter#london#goals#blackandwhite#blue#swag#health#party#night#landscape#nyc#happiness#pink#lol#foodporn#newyork#fitfam#awesome#fashionblogger#Halloween#Home#fall#paris'\n",
    "msg = msg.split()\n",
    "msg = np.array(msg)\n",
    "msg = tv.transform(msg)\n",
    "print(svm.predict(msg))"
   ]
  },
  {
   "cell_type": "code",
   "execution_count": 73,
   "metadata": {},
   "outputs": [],
   "source": [
    "pkl_filename = \"Models/Lr_model_words.pkl\"\n",
    "with open(pkl_filename, 'wb') as file:\n",
    "    pickle.dump(log_model, file)\n",
    "    \n",
    "pkl_filename = \"Models/svm_model_words.pkl\"\n",
    "with open(pkl_filename, 'wb') as file:\n",
    "    pickle.dump(svm, file)"
   ]
  },
  {
   "cell_type": "code",
   "execution_count": 74,
   "metadata": {},
   "outputs": [
    {
     "name": "stdout",
     "output_type": "stream",
     "text": [
      "[0 0]\n"
     ]
    }
   ],
   "source": []
  },
  {
   "cell_type": "code",
   "execution_count": null,
   "metadata": {},
   "outputs": [],
   "source": []
  }
 ],
 "metadata": {
  "kernelspec": {
   "display_name": "Python 3",
   "language": "python",
   "name": "python3"
  },
  "language_info": {
   "codemirror_mode": {
    "name": "ipython",
    "version": 3
   },
   "file_extension": ".py",
   "mimetype": "text/x-python",
   "name": "python",
   "nbconvert_exporter": "python",
   "pygments_lexer": "ipython3",
   "version": "3.6.9"
  }
 },
 "nbformat": 4,
 "nbformat_minor": 2
}
